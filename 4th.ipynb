{
 "cells": [
  {
   "cell_type": "code",
   "execution_count": 1,
   "id": "8da50b87-2dbe-44fd-a5f4-15c4eda270a7",
   "metadata": {},
   "outputs": [],
   "source": [
    "adress=\"2609 barrington drive east\""
   ]
  },
  {
   "cell_type": "code",
   "execution_count": 2,
   "id": "e3ea26f3-1b0e-4df0-86d8-e5a23195a66c",
   "metadata": {},
   "outputs": [
    {
     "name": "stdout",
     "output_type": "stream",
     "text": [
      "your adress is 2609 barrington drive east\n"
     ]
    }
   ],
   "source": [
    "print (\"your adress is 2609 barrington drive east\")"
   ]
  },
  {
   "cell_type": "code",
   "execution_count": 3,
   "id": "21f9a82f-e87e-4baa-b048-eb031581aaad",
   "metadata": {},
   "outputs": [
    {
     "name": "stdout",
     "output_type": "stream",
     "text": [
      "your adress is 2609 barrington drive east\n"
     ]
    }
   ],
   "source": [
    "print (\"your adress is\", adress)"
   ]
  },
  {
   "cell_type": "code",
   "execution_count": 4,
   "id": "d54ba48d-54e2-4dac-9af7-412d51e63666",
   "metadata": {},
   "outputs": [],
   "source": [
    "house_number=2609"
   ]
  },
  {
   "cell_type": "code",
   "execution_count": 5,
   "id": "8545a24e-5d36-47a2-b7b8-8d86a6581f5b",
   "metadata": {},
   "outputs": [],
   "source": [
    "street_name=\"Barringtom Drive East\""
   ]
  },
  {
   "cell_type": "code",
   "execution_count": 6,
   "id": "15b4bdf8-6304-4536-be47-a0292233d5c6",
   "metadata": {},
   "outputs": [],
   "source": [
    "city=\"Aurora\""
   ]
  },
  {
   "cell_type": "code",
   "execution_count": 7,
   "id": "bd65ea24-954e-4d8b-b9b9-cfb8953c4009",
   "metadata": {},
   "outputs": [],
   "source": [
    "State=\"Illinois\""
   ]
  },
  {
   "cell_type": "code",
   "execution_count": 8,
   "id": "3b7d617e-eddb-4b75-afd1-70e0ba2f6261",
   "metadata": {},
   "outputs": [],
   "source": [
    "zip_code=60503"
   ]
  },
  {
   "cell_type": "code",
   "execution_count": 9,
   "id": "6ac37c29-abb1-4a0f-a75f-5dd7101a7541",
   "metadata": {},
   "outputs": [
    {
     "name": "stdout",
     "output_type": "stream",
     "text": [
      "your adresss is 2609 Barringtom Drive East Aurora Illinois 60503\n"
     ]
    }
   ],
   "source": [
    "print (\"your adresss is\", house_number, street_name, city, State,zip_code)"
   ]
  },
  {
   "cell_type": "code",
   "execution_count": 10,
   "id": "c09d43c9-0c75-42c3-a8c1-1bd248df4f8d",
   "metadata": {},
   "outputs": [],
   "source": [
    "Club_name=\"Wheatland Athletic Association\""
   ]
  },
  {
   "cell_type": "code",
   "execution_count": 11,
   "id": "2da84d8e-823d-408f-ba1c-47064bc78db7",
   "metadata": {},
   "outputs": [],
   "source": [
    "team_name=\"Team Chicago Juniors\""
   ]
  },
  {
   "cell_type": "code",
   "execution_count": 12,
   "id": "1ae4f65b-3bc9-4ce5-9959-04064053eefb",
   "metadata": {},
   "outputs": [],
   "source": [
    "Jersey_Color=[\"yellow\", \"Green\"]"
   ]
  },
  {
   "cell_type": "code",
   "execution_count": 13,
   "id": "9ea5e678-1d8c-432d-878d-6b9928169de9",
   "metadata": {},
   "outputs": [],
   "source": [
    "Match_date=\"02/12/2022 2:00:00 PM\""
   ]
  },
  {
   "cell_type": "code",
   "execution_count": 14,
   "id": "0fd3faa1-6630-4200-a26a-4d811ab19574",
   "metadata": {},
   "outputs": [
    {
     "name": "stdout",
     "output_type": "stream",
     "text": [
      "Team Chicago Juniors will be playing in 02/12/2022 2:00:00 PM in yellow jerseys in Wheatland Athletic Association\n"
     ]
    }
   ],
   "source": [
    "print (team_name, \"will be playing in\", Match_date, \"in\", Jersey_Color[0], \"jerseys in\", Club_name)"
   ]
  },
  {
   "cell_type": "code",
   "execution_count": 15,
   "id": "ea5db5a5-1eae-4a1a-8970-3565e53a82ca",
   "metadata": {},
   "outputs": [],
   "source": [
    "Lunch_Foods=[\"Mac and Cheese\", \"Carrots\", \"Salad\", \"KFC\"]"
   ]
  },
  {
   "cell_type": "code",
   "execution_count": 27,
   "id": "544fd537-d392-4498-bb25-5862f815a76e",
   "metadata": {},
   "outputs": [
    {
     "name": "stdin",
     "output_type": "stream",
     "text": [
      "enter a number between 1-4 4\n"
     ]
    }
   ],
   "source": [
    "x = eval(input(\"enter a number between 1-4\"))"
   ]
  },
  {
   "cell_type": "code",
   "execution_count": 28,
   "id": "ed0643f3-5ee3-4af6-9e6d-ffdf57ecc111",
   "metadata": {},
   "outputs": [
    {
     "name": "stdout",
     "output_type": "stream",
     "text": [
      "Congrats you have chosen item KFC\n"
     ]
    }
   ],
   "source": [
    "print(\"Congrats you have chosen item\",Lunch_Foods[x-1])"
   ]
  },
  {
   "cell_type": "code",
   "execution_count": null,
   "id": "5d96fb56-9fe4-4ef9-a76b-be11fd80ea06",
   "metadata": {},
   "outputs": [],
   "source": []
  }
 ],
 "metadata": {
  "kernelspec": {
   "display_name": "Python 3 (ipykernel)",
   "language": "python",
   "name": "python3"
  },
  "language_info": {
   "codemirror_mode": {
    "name": "ipython",
    "version": 3
   },
   "file_extension": ".py",
   "mimetype": "text/x-python",
   "name": "python",
   "nbconvert_exporter": "python",
   "pygments_lexer": "ipython3",
   "version": "3.10.1"
  }
 },
 "nbformat": 4,
 "nbformat_minor": 5
}
